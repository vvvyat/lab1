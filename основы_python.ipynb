{
  "cells": [
    {
      "cell_type": "markdown",
      "metadata": {
        "id": "M-DGa20PaHnu"
      },
      "source": [
        "#Задача 1\n",
        "Написать функцию на вход которой подается строка, состоящая из латинских букв.\n",
        "Функция должна вернуть количество гласных букв (a, e, i, o, u) в этой строке. Написать тесты для кода"
      ]
    },
    {
      "cell_type": "code",
      "execution_count": null,
      "metadata": {
        "id": "XvX8X_JJ6PCb"
      },
      "outputs": [],
      "source": [
        "def countVowels(s):\n",
        "    cnt = 0\n",
        "    for symb in s.lower():\n",
        "        if symb in 'aeiou':\n",
        "            cnt += 1\n",
        "    return cnt\n",
        "\n",
        "print(countVowels('')) # 0\n",
        "print(countVowels('Ghsn')) # 0\n",
        "print(countVowels('acFFjAau')) # 4"
      ]
    },
    {
      "cell_type": "markdown",
      "metadata": {
        "id": "t2ClV_Y0bbr6"
      },
      "source": [
        "# Задача 2\n",
        "Написать функцию на вход, которой подается строка. Функция должна вернуть true, если\n",
        "каждый символ в строке встречается только 1 раз, иначе должна вернуть false. Написать тесты для кода"
      ]
    },
    {
      "cell_type": "code",
      "execution_count": null,
      "metadata": {
        "id": "FppbECao6VIz"
      },
      "outputs": [],
      "source": [
        "def isStringSymbolsUnique(s):\n",
        "    checked = ''\n",
        "    for symb in s.lower():\n",
        "        if symb in checked:\n",
        "            return False\n",
        "        checked += symb\n",
        "    return True\n",
        "\n",
        "print(isStringSymbolsUnique('abc')) # True\n",
        "print(isStringSymbolsUnique('Hello')) # False"
      ]
    },
    {
      "cell_type": "markdown",
      "metadata": {
        "id": "udRiIK1cdt6E"
      },
      "source": [
        "# Задача 3\n",
        "Написать функцию, которая принимает положительное число и возвращает количество\n",
        "бит равных 1 в этом числе. Написать тесты для кода"
      ]
    },
    {
      "cell_type": "code",
      "execution_count": null,
      "metadata": {
        "id": "6tkfDJRz6dp_"
      },
      "outputs": [],
      "source": [
        "def countBits(num):\n",
        "    binary = bin(num)\n",
        "    return binary.count('1')\n",
        "\n",
        "print(countBits(0)) # 0\n",
        "print(countBits(3)) # 2\n",
        "print(countBits(128)) # 1"
      ]
    },
    {
      "cell_type": "markdown",
      "metadata": {
        "id": "26dDUz-Ae17N"
      },
      "source": [
        "# Задача 4\n",
        "Написать функцию, которая принимает положительное число. Функция должна вернуть то,\n",
        "сколько раз необходимо перемножать цифры числа или результат перемножения, чтобы\n",
        "получилось число состоящее из одной цифры.\n",
        "Например, для входного числа:\n",
        "· 39 функция должна вернуть 3, так как 3*9=27 => 2*7=14 => 1*4=4\n",
        "· 4 функция должна вернуть 0, так как число уже состоит из одной цифры\n",
        "· 999 функция должна вернуть 4, так как 9*9*9=729 => 7*2*9=126 => 1*2*6=12 =>\n",
        "1*2=2. Написать тесты для кода"
      ]
    },
    {
      "cell_type": "code",
      "execution_count": null,
      "metadata": {
        "id": "BH1A_Mgi6i4G"
      },
      "outputs": [],
      "source": [
        "def multiplyDigits(num):\n",
        "    res = 1\n",
        "    for digit in str(num):\n",
        "        res *= int(digit)\n",
        "    return res\n",
        "\n",
        "def magic(n):\n",
        "    cnt = 0\n",
        "    while n // 10 != 0:\n",
        "        n = multiplyDigits(n)\n",
        "        cnt += 1\n",
        "    return cnt\n",
        "\n",
        "print(magic(39)) # 3\n",
        "print(magic(4)) # 0\n",
        "print(magic(999)) # 4"
      ]
    },
    {
      "cell_type": "markdown",
      "metadata": {
        "id": "0nS-kIa8g8vd"
      },
      "source": [
        "# Задача 5\n",
        "Написать функцию, которая принимает два целочисленных вектора одинаковой длины и\n",
        "возвращает среднеквадратическое отклонение двух векторов. Написать тесты для кода"
      ]
    },
    {
      "cell_type": "code",
      "execution_count": null,
      "metadata": {
        "id": "8iphx4LM6xbx"
      },
      "outputs": [],
      "source": [
        "def mse(pred, true):\n",
        "    n = len(pred)\n",
        "    sumSquares = 0\n",
        "    for i in range(n):\n",
        "        sumSquares += (pred[i] - true[i]) ** 2\n",
        "    return (sumSquares / n) ** 0.5\n",
        "\n",
        "print(mse([1, 2, 3], [1, 2, 3])) # 0\n",
        "print(mse([1, 2, 3], [2, 3, 4])) # 1"
      ]
    },
    {
      "cell_type": "markdown",
      "metadata": {
        "id": "vpIPKL439zkw"
      },
      "source": [
        "# Задача 6\n",
        "Написать функцию, принимающая целое положительное число. Функция должна вернуть\n",
        "строку вида “(n1**p1)(n2**p2)…(nk**pk)” представляющая разложение числа на простые\n",
        "множители (если pi == 1, то выводить только ni).\n",
        "Например, для числа 86240 функция должна вернуть “(2**5)(5)(7**2)(11)”. Написать тесты для кода"
      ]
    },
    {
      "cell_type": "code",
      "execution_count": null,
      "metadata": {
        "id": "pFebmcZk94Jw"
      },
      "outputs": [],
      "source": [
        "def countFactor(factors, i):\n",
        "    if i in factors:\n",
        "        factors[i] += 1\n",
        "    else:\n",
        "        factors[i] = 1\n",
        "\n",
        "def formResultString(factors):\n",
        "    res = ''\n",
        "    for factor in factors.keys():\n",
        "        if factors[factor] == 1:\n",
        "            res += '({})'.format(factor)\n",
        "        else:\n",
        "            res += '({}**{})'.format(factor, factors[factor])\n",
        "    return res\n",
        "          \n",
        "\n",
        "def primeFactors(n):\n",
        "    i = 2\n",
        "    factors = {}\n",
        "    while i <= n:\n",
        "        if n % i != 0:\n",
        "            i += 1\n",
        "        else:\n",
        "            n //= i\n",
        "            countFactor(factors, i)\n",
        "    if n > 1:\n",
        "        countFactor(factors, i)\n",
        "    res = formResultString(factors)\n",
        "    return res\n",
        "\n",
        "print(primeFactors(86240)) # (2**5)(5)(7**2)(11)\n",
        "print(primeFactors(999)) # (3**3)(37)\n",
        "print(primeFactors(1)) # ''\n",
        "print(primeFactors(12)) # (2**2)(3)"
      ]
    },
    {
      "cell_type": "markdown",
      "metadata": {
        "id": "ps2s0BudX7A2"
      },
      "source": [
        "# Задача 7\n",
        "Написать функцию, принимающая целое число n, задающее количество кубиков. Функция\n",
        "должна определить, можно ли из данного кол-ва кубиков построить пирамиду, то есть\n",
        "можно ли представить число n как 1^2+2^2+3^2+…+k^2. Если можно, то функция должна\n",
        "вернуть k, иначе строку “It is impossible”. Написать тесты для кода"
      ]
    },
    {
      "cell_type": "code",
      "execution_count": null,
      "metadata": {
        "id": "3YPjEXxhX_YT"
      },
      "outputs": [],
      "source": [
        "def pyramid(number):\n",
        "    number -= 1\n",
        "    k = 1\n",
        "    while number > 0:\n",
        "        k += 1\n",
        "        number -= k ** 2\n",
        "    if number == 0:\n",
        "        return k\n",
        "    return \"It is impossible\"\n",
        "\n",
        "print(pyramid(14)) # 3\n",
        "print(pyramid(1)) # 1\n",
        "print(pyramid(0)) # It is impossible\n",
        "print(pyramid(13)) # It is impossible"
      ]
    },
    {
      "cell_type": "markdown",
      "metadata": {
        "id": "KeKgmIdAQMEJ"
      },
      "source": [
        "# Задача 8\n",
        "Функция принимает на вход положительное число и определяет является ли оно сбалансированным, т.е. сумма цифр до средних равна сумме цифр после. Средними в случае нечетного числа цифр считать одну цифру, в случае четного - две средних. Написать тесты для кода"
      ]
    },
    {
      "cell_type": "code",
      "execution_count": null,
      "metadata": {
        "id": "gMAAqtqlQrZt"
      },
      "outputs": [],
      "source": [
        "def isNumberBalansed(n):\n",
        "    leftSum = 0\n",
        "    rightSum = 0\n",
        "    strN = str(n)\n",
        "    lenght = len(strN)\n",
        "    if lenght % 2 == 0:\n",
        "        i = lenght // 2 - 1\n",
        "    else:\n",
        "        i = lenght // 2\n",
        "    for j in range(i):\n",
        "        leftSum += int(strN[j])\n",
        "        rightSum += int(strN[-j-1])\n",
        "    if leftSum == rightSum:\n",
        "        return True\n",
        "    return False\n",
        "\n",
        "print(isNumberBalansed(1)) # True\n",
        "print(isNumberBalansed(12345)) # False\n",
        "print(isNumberBalansed(12345312)) # True"
      ]
    }
  ],
  "metadata": {
    "colab": {
      "provenance": []
    },
    "kernelspec": {
      "display_name": "Python 3",
      "name": "python3"
    },
    "language_info": {
      "name": "python"
    }
  },
  "nbformat": 4,
  "nbformat_minor": 0
}
