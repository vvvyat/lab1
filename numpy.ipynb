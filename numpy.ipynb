{
  "cells": [
    {
      "cell_type": "markdown",
      "metadata": {
        "id": "vC84e9kzyxPy"
      },
      "source": [
        "<h1>Импорт библиотек"
      ]
    },
    {
      "cell_type": "code",
      "execution_count": 3,
      "metadata": {
        "id": "cgKeNegmQG5S"
      },
      "outputs": [],
      "source": [
        "import numpy as np\n",
        "import matplotlib.pyplot as plt"
      ]
    },
    {
      "cell_type": "markdown",
      "metadata": {
        "id": "qFM9uVU2x4Ls"
      },
      "source": [
        "<h1>Задача 1. Дан набор из $p$ матриц размерностью $(n, n)$ и $p$ векторов размерностью $(n, 1)$, найти сумму произведений матриц на векторы. Написать тесты для кода"
      ]
    },
    {
      "cell_type": "code",
      "execution_count": null,
      "metadata": {
        "id": "IAbUvEiYyWFF"
      },
      "outputs": [],
      "source": [
        "def sum_prod(X, V):\n",
        "    '''\n",
        "    X - матрицы (n, n)\n",
        "    V - векторы (n, 1)\n",
        "    Гарантируется, что len(X) == len(V)\n",
        "    '''\n",
        "    res = np.zeros_like(V[0])\n",
        "    for i in range(len(X)):\n",
        "        res += np.dot(X[i], V[i])\n",
        "    return res\n",
        "\n",
        "matrix1 = np.array([[1, 2, 3],\n",
        "                    [4, 5, 6],\n",
        "                    [7, 8, 9]])\n",
        "\n",
        "matrix2 = np.array([[2, 0, 1],\n",
        "                    [1, 2, 3],\n",
        "                    [0, 1, 2]])\n",
        "\n",
        "vector1 = np.array([[1],\n",
        "                    [2],\n",
        "                    [3]])\n",
        "\n",
        "vector2 = np.array([[1],\n",
        "                    [-1],\n",
        "                    [1]])\n",
        "\n",
        "X = [matrix1, matrix2]\n",
        "V = [vector1, vector2]\n",
        "\n",
        "res = sum_prod(X, V)    # [[10],\n",
        "                        #  [12],\n",
        "                        #  [14]]"
      ]
    },
    {
      "cell_type": "markdown",
      "metadata": {
        "id": "TKwPG4fIy2w4"
      },
      "source": [
        "<h1>Задача 2. Дана матрица M, напишите функцию, которая бинаризует матрицу по некоторому threshold (то есть, все значения большие threshold становятся равными 1, иначе 0). Напишите тесты для кода"
      ]
    },
    {
      "cell_type": "code",
      "execution_count": null,
      "metadata": {
        "id": "KQDNMgsjRNH7"
      },
      "outputs": [],
      "source": [
        "def binarize(M, threshold=0.5):\n",
        "    return np.where(M > threshold, 1, 0)\n",
        "\n",
        "M = np.array([[5, 1, 0],\n",
        "              [0, 7, 3],\n",
        "              [0, 0, 5]])\n",
        "\n",
        "res = binarize(M, 4)# [[1, 0, 0],\n",
        "                    #  [0, 1, 0],\n",
        "                    #  [0, 0, 1]]"
      ]
    },
    {
      "cell_type": "markdown",
      "metadata": {
        "id": "IY5L-h-7zWhN"
      },
      "source": [
        "<h1>Задача 3. Напишите функцию, которая возвращает уникальные элементы из каждой строки матрицы. Напишите такую же функцию, но для столбцов. Напишите тесты для кода"
      ]
    },
    {
      "cell_type": "code",
      "execution_count": null,
      "metadata": {
        "id": "-8dEZhR0SBC-"
      },
      "outputs": [],
      "source": [
        "def unique_rows(mat):\n",
        "    return [np.unique(row) for row in mat]\n",
        "\n",
        "def unique_columns(mat):\n",
        "    return [np.unique(mat[:, i]) for i in range(mat.shape[1])]"
      ]
    },
    {
      "cell_type": "markdown",
      "metadata": {
        "id": "roYAlo4Jz-lH"
      },
      "source": [
        "<h1>Задача 4. Напишите функцию, которая заполняет матрицу с размерами $(m, n)$ случайными числами, распределенными по нормальному закону. Затем считает мат. ожидание и дисперсию для каждого из столбцов и строк, а также строит для каждой строки и столбца гистограмму значений (использовать функцию hist из модуля matplotlib.plot)"
      ]
    },
    {
      "cell_type": "code",
      "execution_count": null,
      "metadata": {
        "id": "nZK_71hMSQzv"
      },
      "outputs": [],
      "source": [
        "# Your code goes here"
      ]
    },
    {
      "cell_type": "markdown",
      "metadata": {
        "id": "BDyATNdM0dJ2"
      },
      "source": [
        "<h1>Задача 5. Напишите функцию, которая заполняет матрицу $(m, n)$ в шахматном порядке заданными числами $a$ и $b$. Напишите тесты для кода"
      ]
    },
    {
      "cell_type": "code",
      "execution_count": null,
      "metadata": {
        "id": "RWNJYWQGecS6"
      },
      "outputs": [],
      "source": [
        "def chess(m, n, a, b):\n",
        "    matrix = np.zeros((m, n))\n",
        "    for i in range(m):\n",
        "        for j in range(n):\n",
        "            if (i + j) % 2 == 0:\n",
        "                matrix[i, j] = a\n",
        "            else:\n",
        "                matrix[i, j] = b\n",
        "    return matrix"
      ]
    },
    {
      "cell_type": "markdown",
      "metadata": {
        "id": "-ymXLtTN0vB6"
      },
      "source": [
        "<h1>Задача 6. Напишите функцию, которая отрисовывает прямоугольник с заданными размерами (a, b) на изображении размера (m, n), цвет фона задайте в схеме RGB, как и цвет прямоугольника. Цвета также должны быть параметрами функции. Напишите аналогичную функцию но для овала с полуосями a и b. Напишите тесты для кода.\n",
        "Примечание: уравнение эллипса (границы овала) можно записать как:\n",
        "<h1>$\\frac{(x-x_0)^2}{a^2}+\\frac{(y-y_0)^2}{b^2}=1$"
      ]
    },
    {
      "cell_type": "code",
      "execution_count": 1,
      "metadata": {
        "id": "sNfl1t_kfOF4"
      },
      "outputs": [],
      "source": [
        "def draw_rectangle(a, b, m, n, rectangle_color, background_color):\n",
        "    # Your code goes here\n",
        "    pass\n",
        "\n",
        "def draw_ellipse(a, b, m, n, ellipse_color, background_color):\n",
        "    # Your code goes here\n",
        "    pass"
      ]
    },
    {
      "cell_type": "markdown",
      "metadata": {
        "id": "S82c38oz244H"
      },
      "source": [
        "<h1>Задача 7. Дан некий временной ряд. Для данного ряда нужно найти его: математическое ожидание, дисперсию, СКО, найти все локальные максимумы и минимумы (локальный максимум - это точка, которая больше своих соседних точек, а локальный минимум - это точка, которая меньше своих соседей), а также вычислить для данного ряда другой ряд, получаемый методом скользящего среднего с размером окна $p$.\n",
        "<h1>Примечание: метод скользящего среднего подразумевает нахождение среднего из подмножетсва ряда размером $p$"
      ]
    },
    {
      "cell_type": "code",
      "execution_count": null,
      "metadata": {
        "id": "Zb9mIVge5MMt"
      },
      "outputs": [],
      "source": [
        "# Your code goes here"
      ]
    },
    {
      "cell_type": "markdown",
      "metadata": {
        "id": "jPkylmOX5O9n"
      },
      "source": [
        "<h1> Задача 8. Дан некоторый вектор с целочисленными метками классов, напишите функцию, которая выполняет one-hot-encoding для данного вектора\n",
        "<h1> One-hot-encoding - представление, в котором на месте метки некоторого класса стоит 1, в остальных позициях стоит 0. Например для вектора [0, 2, 3, 0] one-hot-encoding выглядит как: [[1, 0, 0, 0], [0, 0, 1, 0], [0, 0, 0, 1], [1, 0, 0, 0]]"
      ]
    },
    {
      "cell_type": "code",
      "execution_count": null,
      "metadata": {
        "id": "Y-jlnZvw56lD"
      },
      "outputs": [],
      "source": [
        "# Your code goes here"
      ]
    }
  ],
  "metadata": {
    "colab": {
      "provenance": []
    },
    "kernelspec": {
      "display_name": "Python 3",
      "name": "python3"
    },
    "language_info": {
      "name": "python"
    }
  },
  "nbformat": 4,
  "nbformat_minor": 0
}
